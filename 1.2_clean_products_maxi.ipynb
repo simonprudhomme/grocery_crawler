{
 "cells": [
  {
   "cell_type": "code",
   "execution_count": 27,
   "metadata": {},
   "outputs": [],
   "source": [
    "from google_bigquery import bq_to_csv, csv_to_bq\n",
    "import pandas as pd\n",
    "import json\n",
    "import yaml\n",
    "import re\n",
    "import glob\n",
    "from datetime import date\n",
    "import unidecode\n",
    "import numpy as np\n",
    "import string\n",
    "from keyword import iskeyword"
   ]
  },
  {
   "cell_type": "code",
   "execution_count": 28,
   "metadata": {},
   "outputs": [
    {
     "data": {
      "text/plain": [
       "'/Users/simonprudhomme/Desktop/maxi/2020-04-01/maxi/'"
      ]
     },
     "execution_count": 28,
     "metadata": {},
     "output_type": "execute_result"
    }
   ],
   "source": [
    "dataset_id = 'maxi_prices'\n",
    "table_id ='price'\n",
    "folder = str(date.today())\n",
    "store = '/maxi/'\n",
    "path = '/Users/simonprudhomme/Desktop/maxi/'\n",
    "path+folder+store"
   ]
  },
  {
   "cell_type": "code",
   "execution_count": 29,
   "metadata": {},
   "outputs": [
    {
     "name": "stdout",
     "output_type": "stream",
     "text": [
      "(7536, 5)\n"
     ]
    }
   ],
   "source": [
    "all_files = glob.glob(path+folder+store + \"/*.csv\")\n",
    "\n",
    "li = []\n",
    "for filename in all_files:\n",
    "    df = pd.read_csv(filename, index_col=None, header=0)\n",
    "    li.append(df)\n",
    "\n",
    "data = pd.concat(li, axis=0, sort=True,ignore_index=True)\n",
    "print(data.shape)"
   ]
  },
  {
   "cell_type": "code",
   "execution_count": 30,
   "metadata": {},
   "outputs": [],
   "source": [
    "def clean_attributs(attribut):\n",
    "    s = attribut\n",
    "    try:\n",
    "        json_acceptable_string = s.replace(\"'\", \"\\\"\")\n",
    "        d = json.loads(json_acceptable_string)[0]\n",
    "    except:\n",
    "        d = yaml.load(s,Loader=yaml.FullLoader)[0]\n",
    "    return d\n",
    "\n",
    "data['attributs'] = [clean_attributs(attribut) for attribut in data['attributs']]"
   ]
  },
  {
   "cell_type": "code",
   "execution_count": 31,
   "metadata": {},
   "outputs": [],
   "source": [
    "data_clean = pd.DataFrame()\n",
    "for item in data['attributs']:\n",
    "    sub_data = pd.DataFrame.from_dict(item,orient='index')\n",
    "    data_clean = pd.concat([data_clean,sub_data],axis=1)\n",
    "data_clean = data_clean.T.reset_index(drop=True)\n",
    "\n",
    "data_clean['ratio'] = data['ratios']\n",
    "data_clean['sales'] = data['sales']\n",
    "data_clean['productCategory'] = data['name']\n",
    "data_clean['date'] = data['date']\n",
    "\n",
    "data_clean = data_clean.drop_duplicates().reset_index(drop=True)"
   ]
  },
  {
   "cell_type": "code",
   "execution_count": 32,
   "metadata": {},
   "outputs": [],
   "source": [
    "def remove_ponctuation(x):\n",
    "    if x is not np.nan:\n",
    "        x = unidecode.unidecode(x)\n",
    "        #x = x.translate(str.maketrans('', '', string.punctuation))\n",
    "        x = x.replace(';\\n;','')\n",
    "        #x = x.strip()\n",
    "    else:\n",
    "        x = np.nan\n",
    "    return x\n",
    "\n",
    "data_clean['productName'] = [remove_ponctuation(x) for x in data_clean['productName']]"
   ]
  },
  {
   "cell_type": "code",
   "execution_count": 33,
   "metadata": {},
   "outputs": [],
   "source": [
    "def is_numeric(x):\n",
    "    if x is not np.nan:\n",
    "        if any(i.isdigit() for i in x):\n",
    "            return True\n",
    "    else:\n",
    "        return False"
   ]
  },
  {
   "cell_type": "code",
   "execution_count": 34,
   "metadata": {},
   "outputs": [],
   "source": [
    "def clean_sale(x):\n",
    "    if ' for ' in str(x):\n",
    "        x = np.nan\n",
    "    if ' MIN ' in str(x):\n",
    "        x = np.nan\n",
    "    if x is not np.nan :\n",
    "        x = x.split('$')[1]\n",
    "        x = x.strip()\n",
    "        x = float(x)\n",
    "    else:\n",
    "        x = np.nan\n",
    "    return x\n",
    "\n",
    "data_clean['productSales'] = [clean_sale(x) if is_numeric(x) is True else np.nan for x in data_clean['sales']]"
   ]
  },
  {
   "cell_type": "code",
   "execution_count": 35,
   "metadata": {},
   "outputs": [],
   "source": [
    "data_clean['productPrice'] = data_clean['productPrice'].astype(float)\n",
    "data_clean['productPricePerGram'] = data_clean['ratio'].str.split('/')\n",
    "data_clean['productUnit'] = data_clean['ratio'].str.split('/')\n",
    "\n",
    "def clean_price(x):\n",
    "    if x is not np.NaN:\n",
    "        if len(x)>1 :\n",
    "            try:\n",
    "                x = x[0].replace('$','')\n",
    "                x = x.replace(' ','')\n",
    "                x = x.replace(',','.')\n",
    "                x = float(x)\n",
    "            except:\n",
    "                x = np.nan\n",
    "    else:\n",
    "        x\n",
    "    return x\n",
    "\n",
    "def clean_unit(x):\n",
    "    if x is not np.NaN:\n",
    "        if len(x)>1 :\n",
    "            x = x[1].strip()\n",
    "    else:\n",
    "        x\n",
    "    return x\n",
    "\n",
    "data_clean['productPricePerGram'] = [clean_price(x) for x in data_clean['productPricePerGram']]\n",
    "data_clean['productUnit'] = [clean_unit(x) for x in data_clean['productUnit']]"
   ]
  },
  {
   "cell_type": "code",
   "execution_count": 36,
   "metadata": {},
   "outputs": [
    {
     "data": {
      "text/plain": [
       "0          21183409\n",
       "1          21082062\n",
       "2       20559141001\n",
       "3       20839325002\n",
       "4       20006357001\n",
       "           ...     \n",
       "5292       21204248\n",
       "5293       20971249\n",
       "5294       20044848\n",
       "5295       20079455\n",
       "5296       21204849\n",
       "Name: productSKU, Length: 5297, dtype: object"
      ]
     },
     "execution_count": 36,
     "metadata": {},
     "output_type": "execute_result"
    }
   ],
   "source": [
    "data_clean['productURL'] = 'https://www.maxi.ca/p/'+data_clean['productSKU']\n",
    "data_clean['productSKU'] = data_clean['productSKU'].str.split('_')\n",
    "data_clean['productSKU'] = [x[0] for x in data_clean['productSKU']]\n",
    "data_clean['productSKU'] = data_clean['productSKU'].str.strip()\n",
    "data_clean['productSKU']"
   ]
  },
  {
   "cell_type": "code",
   "execution_count": 37,
   "metadata": {},
   "outputs": [
    {
     "data": {
      "text/plain": [
       "(5297, 21)"
      ]
     },
     "execution_count": 37,
     "metadata": {},
     "output_type": "execute_result"
    }
   ],
   "source": [
    "data_clean.shape"
   ]
  },
  {
   "cell_type": "code",
   "execution_count": 38,
   "metadata": {},
   "outputs": [],
   "source": [
    "data_clean = data_clean[['productSKU', 'productName', 'productBrand', 'productPrice', 'dealBadge', \n",
    "            'productSales', 'productPricePerGram', 'productUnit','productURL','productCategory','date']]\n",
    "data_clean['source'] = 'maxi'"
   ]
  },
  {
   "cell_type": "code",
   "execution_count": 39,
   "metadata": {},
   "outputs": [],
   "source": [
    "filename_clean = str(date.today())+'_clean.csv'\n",
    "data_clean.to_csv(path+folder+'/'+filename_clean,index=False)"
   ]
  },
  {
   "cell_type": "code",
   "execution_count": null,
   "metadata": {},
   "outputs": [],
   "source": []
  }
 ],
 "metadata": {
  "kernelspec": {
   "display_name": "Python 3",
   "language": "python",
   "name": "python3"
  },
  "language_info": {
   "codemirror_mode": {
    "name": "ipython",
    "version": 3
   },
   "file_extension": ".py",
   "mimetype": "text/x-python",
   "name": "python",
   "nbconvert_exporter": "python",
   "pygments_lexer": "ipython3",
   "version": "3.6.10"
  }
 },
 "nbformat": 4,
 "nbformat_minor": 4
}

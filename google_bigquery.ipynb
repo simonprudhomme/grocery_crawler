{
 "cells": [
  {
   "cell_type": "code",
   "execution_count": 1,
   "metadata": {},
   "outputs": [
    {
     "name": "stdout",
     "output_type": "stream",
     "text": [
      "[NbConvertApp] Converting notebook google_bigquery.ipynb to script\n",
      "[NbConvertApp] Writing 2331 bytes to google_bigquery.py\n"
     ]
    }
   ],
   "source": [
    "! jupyter nbconvert --to script google_bigquery.ipynb"
   ]
  },
  {
   "cell_type": "code",
   "execution_count": 2,
   "metadata": {},
   "outputs": [],
   "source": [
    "def csv_to_bq(filename, dataset_id, table_id, overwrite=True, auto=True):\n",
    "    \"\"\"\n",
    "    return : overwrite to : WRITE_APPEND if append\n",
    "    \"\"\"\n",
    "    from google.cloud.bigquery import client\n",
    "    from google.cloud import bigquery\n",
    "    import os\n",
    "    os.environ['GOOGLE_APPLICATION_CREDENTIALS'] = '/Users/simonprudhomme/Desktop/gcp_json_keys/maxi-price-1422fac585da.json'\n",
    "    client = bigquery.Client()\n",
    "    dataset_ref = client.dataset(dataset_id)\n",
    "    table_ref = dataset_ref.table(table_id)\n",
    "    \n",
    "    job_config = bigquery.LoadJobConfig()\n",
    "    job_config.source_format = bigquery.SourceFormat.CSV\n",
    "    job_config.skip_leading_rows = 1\n",
    "    if auto :\n",
    "        job_config.autodetect = True\n",
    "    else :\n",
    "        job_config.schema = [\n",
    "            bigquery.SchemaField(\"productSKU\", \"STRING\"),\n",
    "            bigquery.SchemaField(\"productName\", \"STRING\"),\n",
    "            bigquery.SchemaField(\"productPrice\", \"STRING\"),\n",
    "            bigquery.SchemaField(\"ratios\", \"STRING\"),\n",
    "            bigquery.SchemaField(\"date\", \"DATE\"),\n",
    "            bigquery.SchemaField(\"categories\", \"STRING\")]\n",
    "    if overwrite :\n",
    "        job_config.write_disposition = 'WRITE_TRUNCATE'\n",
    "    else :\n",
    "        job_config.write_disposition = bigquery.WriteDisposition.WRITE_APPEND\n",
    "    \n",
    "    with open(filename, \"rb\") as source_file:\n",
    "        job = client.load_table_from_file(source_file, table_ref, job_config=job_config)\n",
    "    job.result()  # Waits for table load to complete.\n",
    "    print(\"Loaded {} rows into {}:{}.\".format(job.output_rows, dataset_id, table_id))\n",
    "    return"
   ]
  },
  {
   "cell_type": "code",
   "execution_count": 3,
   "metadata": {},
   "outputs": [],
   "source": [
    "def bq_to_csv(query):\n",
    "    from google.cloud.bigquery import client\n",
    "    from google.cloud import bigquery\n",
    "    import os\n",
    "    os.environ['GOOGLE_APPLICATION_CREDENTIALS'] = '/Users/simonprudhomme/Desktop/gcp_json_keys/maxi-price-1422fac585da.json'\n",
    "    client = bigquery.Client()\n",
    "    data = client.query(query).to_dataframe()\n",
    "    print(\"Loaded DataFrame size {}\".format(data.shape))\n",
    "    return data "
   ]
  },
  {
   "cell_type": "code",
   "execution_count": 4,
   "metadata": {},
   "outputs": [],
   "source": [
    "# filename = '/Users/simonprudhomme/Desktop/dm/advertiser_expense_stats.csv'\n",
    "# dataset_id = 'maxi_prices'\n",
    "# table_id ='price'\n",
    "\n",
    "# csv_to_bq(filename, dataset_id, table_id, overwrite=True,auto=True)\n",
    "\n",
    "# query = \"\"\"SELECT * FROM `maxi-price.maxi_prices.price`\"\"\"\n",
    "# data = bq_to_csv(query)"
   ]
  },
  {
   "cell_type": "code",
   "execution_count": null,
   "metadata": {},
   "outputs": [],
   "source": []
  }
 ],
 "metadata": {
  "kernelspec": {
   "display_name": "Python 3",
   "language": "python",
   "name": "python3"
  },
  "language_info": {
   "codemirror_mode": {
    "name": "ipython",
    "version": 3
   },
   "file_extension": ".py",
   "mimetype": "text/x-python",
   "name": "python",
   "nbconvert_exporter": "python",
   "pygments_lexer": "ipython3",
   "version": "3.6.8"
  }
 },
 "nbformat": 4,
 "nbformat_minor": 4
}

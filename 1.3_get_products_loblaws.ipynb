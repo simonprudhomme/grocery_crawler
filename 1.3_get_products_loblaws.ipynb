{
 "cells": [
  {
   "cell_type": "code",
   "execution_count": 8,
   "metadata": {},
   "outputs": [],
   "source": [
    "#! jupyter nbconvert --to script get_maxi_products_prices.ipynb"
   ]
  },
  {
   "cell_type": "code",
   "execution_count": 7,
   "metadata": {},
   "outputs": [],
   "source": [
    "from selenium import webdriver\n",
    "from selenium.webdriver.common.keys import Keys\n",
    "from datetime import date\n",
    "import pandas as pd\n",
    "import numpy as np\n",
    "from bs4 import BeautifulSoup\n",
    "import os\n",
    "import schedule\n",
    "import time\n",
    "import gc\n",
    "from tqdm import tqdm\n",
    "\n",
    "from selenium.webdriver.chrome.options import Options\n",
    "chrome_options = Options()  \n",
    "#chrome_options.add_argument(\"--headless\")\n",
    "chrome_options.add_experimental_option('prefs', {'intl.accept_languages': 'en,en_US'})"
   ]
  },
  {
   "cell_type": "code",
   "execution_count": 8,
   "metadata": {},
   "outputs": [],
   "source": [
    "def get_product(categorie_url, name):\n",
    "    \n",
    "    folder = str(date.today())\n",
    "    today = date.today()\n",
    "    store = 'loblaws'\n",
    "    \n",
    "    if not os.path.exists(folder):\n",
    "        os.makedirs(folder)\n",
    "        print(\"Directory \" , folder ,  \" Created \")\n",
    "    else:    \n",
    "        print(\"Directory \" , folder ,  \" already exists\") \n",
    "        \n",
    "    if not os.path.exists(folder+'/'+store):\n",
    "        os.makedirs(folder+'/'+store)\n",
    "        print(\"Directory \" , store ,  \" Created \")\n",
    "    else:    \n",
    "        print(\"Directory \" , store ,  \" already exists\") \n",
    "        \n",
    "    driver = webdriver.Chrome(options=chrome_options)\n",
    "    driver.get(categorie_url)\n",
    "    time.sleep(7)\n",
    "    \n",
    "    print(driver.find_element_by_xpath('/html/body/div[2]/div/div[2]/main/div/div/div[4]/div/div/div/div[2]/div[4]/div/button').text)\n",
    "    if driver.find_element_by_xpath('/html/body/div[2]/div/div[2]/main/div/div/div[4]/div/div/div/div[2]/div[4]/div/button').text == 'EN':\n",
    "        driver.find_element_by_xpath('/html/body/div[2]/div/div[2]/main/div/div/div[4]/div/div/div/div[2]/div[4]/div/button').click()\n",
    "    time.sleep(7)\n",
    "    while True:\n",
    "        try:\n",
    "            element = driver.find_element_by_xpath('/html/body/div[2]/div/div[2]/main/div/div/div[4]/div/div/div/div[2]/div[4]/div/button')\n",
    "            coordinates = element.location_once_scrolled_into_view\n",
    "            driver.execute_script('window.scrollTo({}, {});'.format(coordinates['x'], coordinates['y']))\n",
    "            driver.find_element_by_xpath('/html/body/div[2]/div/div[2]/main/div/div/div[4]/div/div/div/div[2]/div[4]/div/button').click()\n",
    "            time.sleep(7)\n",
    "        except Exception as e:\n",
    "            print(e)\n",
    "            break\n",
    "    time.sleep(7)\n",
    "    \n",
    "    print(\"Web Page Loaded\")\n",
    "    \n",
    "    soup = BeautifulSoup(driver.page_source, 'html.parser')\n",
    "    \n",
    "    items = soup.find_all('li', {'class': 'product-tile-group__item'})\n",
    "    attributs = []\n",
    "    ratios = []\n",
    "    sales = []\n",
    "    for item in items:\n",
    "        attribut = item.find('div', {'class': 'product-tracking'}).attrs\n",
    "        attributs.append(attribut['data-track-products-array'])\n",
    "        ratio = item.find('span', {'class' : 'price comparison-price-list__item__price'})\n",
    "        try:\n",
    "            a = ratio.text\n",
    "        except Exception as e:\n",
    "            print(e)\n",
    "            a = np.nan\n",
    "        ratios.append(a)\n",
    "        sale = item.find('div', {'class' : 'product-badge__text product-badge__text--product-tile'})\n",
    "        try:\n",
    "            b = sale.text\n",
    "        except Exception as e:\n",
    "            b = np.nan\n",
    "        sales.append(b) \n",
    "        \n",
    "    products = pd.DataFrame(attributs, columns={'attributs'})\n",
    "\n",
    "    products['ratios'] = ratios\n",
    "    products['sales'] = sales\n",
    "    products['name'] = name\n",
    "    products['date'] = str(today)\n",
    "    \n",
    "    filename=name+'_loblaws_'+str(today)+'.csv'\n",
    "    \n",
    "    products.to_csv(folder+'/'+store+'/'+filename,index=False)\n",
    "    print(products.shape)\n",
    "    print(filename,\"is Saved\")\n",
    "    \n",
    "    driver.quit()\n",
    "    time.sleep(10)\n",
    "    \n",
    "    gc.collect()\n",
    "    return products\n"
   ]
  },
  {
   "cell_type": "code",
   "execution_count": 9,
   "metadata": {},
   "outputs": [
    {
     "name": "stderr",
     "output_type": "stream",
     "text": [
      "\n",
      "\n",
      "0it [00:00, ?it/s]\u001b[A\u001b[A"
     ]
    },
    {
     "name": "stdout",
     "output_type": "stream",
     "text": [
      "Directory  2020-05-14  already exists\n",
      "Directory  loblaws  already exists\n",
      "LOAD 48 MORE RESULTS\n",
      "Message: no such element: Unable to locate element: {\"method\":\"css selector\",\"selector\":\".primary-button\"}\n",
      "  (Session info: chrome=81.0.4044.138)\n",
      "\n",
      "Web Page Loaded\n",
      "(0, 5)\n",
      "bakery_loblaws_2020-05-14.csv is Saved\n",
      "Directory  2020-05-14  already exists\n",
      "Directory  loblaws  already exists\n",
      "LOAD 48 MORE RESULTS\n"
     ]
    },
    {
     "ename": "KeyboardInterrupt",
     "evalue": "",
     "output_type": "error",
     "traceback": [
      "\u001b[0;31m---------------------------------------------------------------------------\u001b[0m",
      "\u001b[0;31mKeyboardInterrupt\u001b[0m                         Traceback (most recent call last)",
      "\u001b[0;32m<ipython-input-9-f2b81f10430c>\u001b[0m in \u001b[0;36m<module>\u001b[0;34m\u001b[0m\n\u001b[1;32m     20\u001b[0m                 \u001b[0;32mbreak\u001b[0m\u001b[0;34m\u001b[0m\u001b[0;34m\u001b[0m\u001b[0m\n\u001b[1;32m     21\u001b[0m \u001b[0;34m\u001b[0m\u001b[0m\n\u001b[0;32m---> 22\u001b[0;31m \u001b[0mrun_app\u001b[0m\u001b[0;34m(\u001b[0m\u001b[0;34m)\u001b[0m\u001b[0;34m\u001b[0m\u001b[0;34m\u001b[0m\u001b[0m\n\u001b[0m\u001b[1;32m     23\u001b[0m \u001b[0;34m\u001b[0m\u001b[0m\n\u001b[1;32m     24\u001b[0m \u001b[0;31m## OR\u001b[0m\u001b[0;34m\u001b[0m\u001b[0;34m\u001b[0m\u001b[0;34m\u001b[0m\u001b[0m\n",
      "\u001b[0;32m<ipython-input-9-f2b81f10430c>\u001b[0m in \u001b[0;36mrun_app\u001b[0;34m()\u001b[0m\n\u001b[1;32m     15\u001b[0m         \u001b[0;32mwhile\u001b[0m \u001b[0;32mTrue\u001b[0m\u001b[0;34m:\u001b[0m\u001b[0;34m\u001b[0m\u001b[0;34m\u001b[0m\u001b[0m\n\u001b[1;32m     16\u001b[0m             \u001b[0;32mif\u001b[0m \u001b[0mproducts\u001b[0m\u001b[0;34m.\u001b[0m\u001b[0mshape\u001b[0m\u001b[0;34m[\u001b[0m\u001b[0;36m0\u001b[0m\u001b[0;34m]\u001b[0m \u001b[0;34m==\u001b[0m \u001b[0;36m0\u001b[0m\u001b[0;34m:\u001b[0m\u001b[0;34m\u001b[0m\u001b[0;34m\u001b[0m\u001b[0m\n\u001b[0;32m---> 17\u001b[0;31m                 \u001b[0mproducts\u001b[0m \u001b[0;34m=\u001b[0m \u001b[0mget_product\u001b[0m\u001b[0;34m(\u001b[0m\u001b[0mi\u001b[0m\u001b[0;34m,\u001b[0m \u001b[0mj\u001b[0m\u001b[0;34m)\u001b[0m\u001b[0;34m\u001b[0m\u001b[0;34m\u001b[0m\u001b[0m\n\u001b[0m\u001b[1;32m     18\u001b[0m             \u001b[0;32melse\u001b[0m\u001b[0;34m:\u001b[0m\u001b[0;34m\u001b[0m\u001b[0;34m\u001b[0m\u001b[0m\n\u001b[1;32m     19\u001b[0m                 \u001b[0mprint\u001b[0m\u001b[0;34m(\u001b[0m\u001b[0mj\u001b[0m\u001b[0;34m,\u001b[0m\u001b[0;34m'is Done'\u001b[0m\u001b[0;34m)\u001b[0m\u001b[0;34m\u001b[0m\u001b[0;34m\u001b[0m\u001b[0m\n",
      "\u001b[0;32m<ipython-input-8-66100bc9699c>\u001b[0m in \u001b[0;36mget_product\u001b[0;34m(categorie_url, name)\u001b[0m\n\u001b[1;32m     31\u001b[0m             \u001b[0mdriver\u001b[0m\u001b[0;34m.\u001b[0m\u001b[0mexecute_script\u001b[0m\u001b[0;34m(\u001b[0m\u001b[0;34m'window.scrollTo({}, {});'\u001b[0m\u001b[0;34m.\u001b[0m\u001b[0mformat\u001b[0m\u001b[0;34m(\u001b[0m\u001b[0mcoordinates\u001b[0m\u001b[0;34m[\u001b[0m\u001b[0;34m'x'\u001b[0m\u001b[0;34m]\u001b[0m\u001b[0;34m,\u001b[0m \u001b[0mcoordinates\u001b[0m\u001b[0;34m[\u001b[0m\u001b[0;34m'y'\u001b[0m\u001b[0;34m]\u001b[0m\u001b[0;34m)\u001b[0m\u001b[0;34m)\u001b[0m\u001b[0;34m\u001b[0m\u001b[0;34m\u001b[0m\u001b[0m\n\u001b[1;32m     32\u001b[0m             \u001b[0mdriver\u001b[0m\u001b[0;34m.\u001b[0m\u001b[0mfind_element_by_css_selector\u001b[0m\u001b[0;34m(\u001b[0m\u001b[0;34m'.primary-button'\u001b[0m\u001b[0;34m)\u001b[0m\u001b[0;34m.\u001b[0m\u001b[0mclick\u001b[0m\u001b[0;34m(\u001b[0m\u001b[0;34m)\u001b[0m\u001b[0;34m\u001b[0m\u001b[0;34m\u001b[0m\u001b[0m\n\u001b[0;32m---> 33\u001b[0;31m             \u001b[0mtime\u001b[0m\u001b[0;34m.\u001b[0m\u001b[0msleep\u001b[0m\u001b[0;34m(\u001b[0m\u001b[0;36m7\u001b[0m\u001b[0;34m)\u001b[0m\u001b[0;34m\u001b[0m\u001b[0;34m\u001b[0m\u001b[0m\n\u001b[0m\u001b[1;32m     34\u001b[0m         \u001b[0;32mexcept\u001b[0m \u001b[0mException\u001b[0m \u001b[0;32mas\u001b[0m \u001b[0me\u001b[0m\u001b[0;34m:\u001b[0m\u001b[0;34m\u001b[0m\u001b[0;34m\u001b[0m\u001b[0m\n\u001b[1;32m     35\u001b[0m             \u001b[0mprint\u001b[0m\u001b[0;34m(\u001b[0m\u001b[0me\u001b[0m\u001b[0;34m)\u001b[0m\u001b[0;34m\u001b[0m\u001b[0;34m\u001b[0m\u001b[0m\n",
      "\u001b[0;31mKeyboardInterrupt\u001b[0m: "
     ]
    }
   ],
   "source": [
    "def run_app():\n",
    "    bakery = 'https://www.loblaws.ca/Food/Bakery/c/LSL001003000000?navid=CLP-L3-Bakery'\n",
    "    dairy = 'https://www.loblaws.ca/Food/Dairy-and-Eggs/c/LSL001005000000?navid=CLP-L3-Dairy-and-Eggs'\n",
    "    deli = 'https://www.loblaws.ca/Food/Deli/c/LSL001012000000'\n",
    "    frozen  = 'https://www.loblaws.ca/Food/Frozen/c/LSL001007000000?navid=CLP-L3-Frozen'\n",
    "    vegetables = 'https://www.loblaws.ca/Food/Fruits-%26-Vegetables/c/LSL001001000000?navid=CLP-L3-Fruits-and-Vegetables'\n",
    "    meat = 'https://www.loblaws.ca/Food/Meat-%26-Seafood/c/LSL001004000000?navid=CLP-L3-Meat-and-Seafood'\n",
    "    pantry = 'https://www.loblaws.ca/Food/Pantry/c/LSL001008000000'\n",
    "\n",
    "    a =[bakery ,dairy, deli, frozen, vegetables, meat, pantry]\n",
    "    b = ['bakery','dairy','deli','frozen','vegetables','meat','pantry']\n",
    "\n",
    "    for i, j in tqdm(zip(a,b)):\n",
    "        products = get_product(i, j)\n",
    "        while True:\n",
    "            if products.shape[0] == 0:\n",
    "                products = get_product(i, j)\n",
    "            else:\n",
    "                print(j,'is Done')\n",
    "                break\n",
    "        \n",
    "run_app()\n",
    "\n",
    "## OR  \n",
    "# schedule.every().day.at(\"10:30\").do(run_app)\n",
    "\n",
    "# while True:\n",
    "#     schedule.run_pending()\n",
    "#     time.sleep(1)"
   ]
  },
  {
   "cell_type": "code",
   "execution_count": null,
   "metadata": {},
   "outputs": [],
   "source": []
  },
  {
   "cell_type": "code",
   "execution_count": null,
   "metadata": {},
   "outputs": [],
   "source": []
  }
 ],
 "metadata": {
  "kernelspec": {
   "display_name": "Python 3",
   "language": "python",
   "name": "python3"
  },
  "language_info": {
   "codemirror_mode": {
    "name": "ipython",
    "version": 3
   },
   "file_extension": ".py",
   "mimetype": "text/x-python",
   "name": "python",
   "nbconvert_exporter": "python",
   "pygments_lexer": "ipython3",
   "version": "3.6.10"
  }
 },
 "nbformat": 4,
 "nbformat_minor": 4
}
